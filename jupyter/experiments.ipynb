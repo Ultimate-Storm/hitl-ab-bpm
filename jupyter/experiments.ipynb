{
 "cells": [
  {
   "cell_type": "code",
   "execution_count": 61,
   "metadata": {},
   "outputs": [],
   "source": [
    "# Imports and global variables\n",
    "import requests\n",
    "import json\n",
    "\n",
    "BASE_URL = \"http://localhost:8080/engine-rest\""
   ]
  },
  {
   "cell_type": "code",
   "execution_count": 65,
   "metadata": {},
   "outputs": [],
   "source": [
    "# CLEANUP\n",
    "# delete all process definitions and running instances\n",
    "# ! we need to delete all the running instances first\n",
    "\n",
    "def status_code_successful(status_code: int):\n",
    "    return str(status_code)[0] == '2'\n",
    "\n",
    "\n",
    "def delete_all_data(target: str):\n",
    "    POSSIBLE_TARGETS = [\"process-instance\", \"process-definition\", \"deployment\", \"decision-definition\"]\n",
    "    if target not in POSSIBLE_TARGETS:\n",
    "        raise Exception(str(target) + \"not a valid data deletion target\")\n",
    "        \n",
    "    get_response = requests.get(BASE_URL + \"/\" + target)\n",
    "    #print(json.dumps(get_response.json(), indent=2))\n",
    "\n",
    "    for elem in get_response.json():\n",
    "        current_id = elem.get('id')\n",
    "        del_response = requests.delete(BASE_URL + \"/\" + target + \"/\" + str(current_id))\n",
    "        assert(status_code_successful(del_response.status_code))\n",
    "\n",
    "    \n",
    "    get_response = requests.get(BASE_URL + \"/\" + target)\n",
    "    assert(len(get_response.json()) == 0)   \n",
    "\n",
    "    \n",
    "for elem in [\"process-instance\", \"process-definition\", \"deployment\", \"decision-definition\"]:\n",
    "    delete_all_data(elem)\n"
   ]
  },
  {
   "cell_type": "code",
   "execution_count": 63,
   "metadata": {},
   "outputs": [],
   "source": [
    "# deploy ONE example process instance\n",
    "# TODO: extent for multiple\n",
    "\n",
    "multipart_form_data = {\n",
    "    'deployment-name': (None, 'store'),\n",
    "    'data': ('testCheckProcess.bpmn', open('testCheckProcess.bpmn', 'r')),\n",
    "}\n",
    "\n",
    "response = requests.post(BASE_URL + \"/deployment/create\", files=multipart_form_data)\n",
    "\n",
    "#print(json.dumps(response.json(), indent=2))\n",
    "for elem in response.json().get('deployedProcessDefinitions'):\n",
    "    new_process_id = elem\n",
    "\n",
    "#print(new_process_id)"
   ]
  },
  {
   "cell_type": "code",
   "execution_count": 64,
   "metadata": {},
   "outputs": [],
   "source": [
    "# start instance\n",
    "\n",
    "headers = {'Content-Type': 'application/json'}\n",
    "response = requests.post(\"http://localhost:8080/engine-rest/process-definition/\" + str(new_process_id)+ \"/start\", headers=headers)\n",
    "#print(json.dumps(response.json(), indent=2))\n",
    "assert(status_code_successful(response.status_code))\n"
   ]
  },
  {
   "cell_type": "code",
   "execution_count": null,
   "metadata": {},
   "outputs": [],
   "source": [
    "# TODO\n",
    "# next steps:\n",
    "# create automatically running bp\n",
    "# start it from here\n",
    "# poll history service about it (to calculate rewards)"
   ]
  }
 ],
 "metadata": {
  "interpreter": {
   "hash": "7fd69202ecabc8db15f79459734b97164420183965d5b803907b72f13dd3b941"
  },
  "kernelspec": {
   "display_name": "Python 3.8.9 64-bit ('tutorial-env': venv)",
   "language": "python",
   "name": "python3"
  },
  "language_info": {
   "codemirror_mode": {
    "name": "ipython",
    "version": 3
   },
   "file_extension": ".py",
   "mimetype": "text/x-python",
   "name": "python",
   "nbconvert_exporter": "python",
   "pygments_lexer": "ipython3",
   "version": "3.8.9"
  },
  "orig_nbformat": 4
 },
 "nbformat": 4,
 "nbformat_minor": 2
}
