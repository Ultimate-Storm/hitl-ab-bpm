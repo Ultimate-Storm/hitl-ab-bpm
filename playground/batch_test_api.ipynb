{
 "cells": [
  {
   "cell_type": "code",
   "execution_count": 2,
   "id": "6e1a0b56",
   "metadata": {},
   "outputs": [],
   "source": [
    "# Imports and global variables\n",
    "import requests\n",
    "import json\n",
    "import pandas as pd\n",
    "from dateutil import parser\n",
    "\n",
    "BASE_URL = \"http://localhost:8080/engine-rest\""
   ]
  },
  {
   "cell_type": "code",
   "execution_count": 56,
   "id": "8602eaaa",
   "metadata": {},
   "outputs": [],
   "source": [
    "# CLEANUP\n",
    "# delete all process definitions and running instances\n",
    "# ! we need to delete all the running instances first\n",
    "\n",
    "def status_code_successful(status_code: int):\n",
    "    return str(status_code)[0] == '2'\n",
    "\n",
    "\n",
    "def delete_all_data(target: str):\n",
    "    POSSIBLE_TARGETS = [\"process-instance\", \"process-definition\", \"deployment\", \"decision-definition\"]\n",
    "    if target not in POSSIBLE_TARGETS:\n",
    "        raise Exception(str(target) + \"not a valid data deletion target\")\n",
    "        \n",
    "    get_response = requests.get(BASE_URL + \"/\" + target)\n",
    "    assert(status_code_successful(get_response.status_code))\n",
    "    #print(json.dumps(get_response.json(), indent=2))\n",
    "\n",
    "    for elem in get_response.json():\n",
    "        current_id = elem.get('id')\n",
    "        del_response = requests.delete(BASE_URL + \"/\" + target + \"/\" + str(current_id))\n",
    "        #print(del_response)\n",
    "        assert(status_code_successful(del_response.status_code))\n",
    "\n",
    "    \n",
    "    get_response = requests.get(BASE_URL + \"/\" + target)\n",
    "    assert(status_code_successful(get_response.status_code))\n",
    "    assert(len(get_response.json()) == 0)   \n",
    "\n",
    "    \n",
    "for elem in [\"process-instance\", \"process-definition\", \"deployment\", \"decision-definition\"]:\n",
    "    delete_all_data(elem)\n",
    "\n"
   ]
  },
  {
   "cell_type": "code",
   "execution_count": 57,
   "id": "55f00976",
   "metadata": {},
   "outputs": [
    {
     "name": "stdout",
     "output_type": "stream",
     "text": [
      "Process_1cl94bg:1:bc7fbec8-8463-11ec-9c12-0242ac120003\n"
     ]
    }
   ],
   "source": [
    "# deploy ONE example process \n",
    "# TODO: extent for multiple\n",
    "\n",
    "multipart_form_data = { \n",
    "    'deployment-name': (None, 'store'),\n",
    "    'data': ('helicopter_fast_vA.bpmn', open('helicopter_fast_vA.bpmn', 'r')),\n",
    "}\n",
    "\n",
    "response = requests.post(BASE_URL + \"/deployment/create\", files=multipart_form_data)\n",
    "assert(status_code_successful(response.status_code))\n",
    "\n",
    "#print(json.dumps(response.json(), indent=2))\n",
    "for elem in response.json().get('deployedProcessDefinitions'):\n",
    "    new_process_id = elem\n",
    "\n",
    "print(new_process_id)"
   ]
  },
  {
   "cell_type": "code",
   "execution_count": 58,
   "id": "0ed17e4d",
   "metadata": {},
   "outputs": [],
   "source": [
    "from time import sleep\n",
    "# start batch of instances\n",
    "for x in range(2000):\n",
    "    headers = {'Content-Type': 'application/json'}\n",
    "    response = requests.post(\"http://localhost:8080/engine-rest/process-definition/\" + str(new_process_id)+ \"/start\", headers=headers)\n",
    "    #print(json.dumps(response.json(), indent=2))\n",
    "    assert(status_code_successful(response.status_code))\n",
    "    sleep(1)\n",
    "\n"
   ]
  },
  {
   "cell_type": "code",
   "execution_count": 59,
   "id": "f78b9529",
   "metadata": {
    "scrolled": true
   },
   "outputs": [
    {
     "name": "stdout",
     "output_type": "stream",
     "text": [
      "                                    processDefinitionId processDefinitionKey  \\\n",
      "0     Process_1cl94bg:1:bc7fbec8-8463-11ec-9c12-0242...      Process_1cl94bg   \n",
      "1     Process_1cl94bg:1:bc7fbec8-8463-11ec-9c12-0242...      Process_1cl94bg   \n",
      "2     Process_1cl94bg:1:bc7fbec8-8463-11ec-9c12-0242...      Process_1cl94bg   \n",
      "3     Process_1cl94bg:1:bc7fbec8-8463-11ec-9c12-0242...      Process_1cl94bg   \n",
      "4     Process_1cl94bg:1:bc7fbec8-8463-11ec-9c12-0242...      Process_1cl94bg   \n",
      "...                                                 ...                  ...   \n",
      "1995  Process_1cl94bg:1:bc7fbec8-8463-11ec-9c12-0242...      Process_1cl94bg   \n",
      "1996  Process_1cl94bg:1:bc7fbec8-8463-11ec-9c12-0242...      Process_1cl94bg   \n",
      "1997  Process_1cl94bg:1:bc7fbec8-8463-11ec-9c12-0242...      Process_1cl94bg   \n",
      "1998  Process_1cl94bg:1:bc7fbec8-8463-11ec-9c12-0242...      Process_1cl94bg   \n",
      "1999  Process_1cl94bg:1:bc7fbec8-8463-11ec-9c12-0242...      Process_1cl94bg   \n",
      "\n",
      "     processDefinitionName  Duration  \n",
      "0            helicopter_vA     0.198  \n",
      "1            helicopter_vA     0.041  \n",
      "2            helicopter_vA     0.124  \n",
      "3            helicopter_vA     0.040  \n",
      "4            helicopter_vA     0.099  \n",
      "...                    ...       ...  \n",
      "1995         helicopter_vA     0.283  \n",
      "1996         helicopter_vA     0.087  \n",
      "1997         helicopter_vA     0.121  \n",
      "1998         helicopter_vA     0.125  \n",
      "1999         helicopter_vA     0.074  \n",
      "\n",
      "[2000 rows x 4 columns]\n",
      "Mean: 0.12754\n"
     ]
    }
   ],
   "source": [
    "# poll history service\n",
    "# calculate durations of process instances by process definition\n",
    "import datetime as dt\n",
    "\n",
    "proc_def_response = requests.get(BASE_URL + \"/history/process-definition/cleanable-process-instance-report\")\n",
    "assert(status_code_successful(proc_def_response.status_code))\n",
    "#print(json.dumps(proc_def_response.json(), indent=2))\n",
    "\n",
    "historic_df = pd.DataFrame(columns=['processDefinitionId', 'processDefinitionKey', 'processDefinitionName', 'Duration'])\n",
    "\n",
    "for elem in proc_def_response.json():\n",
    "    processDefinitionId = elem.get('processDefinitionId')\n",
    "    processDefinitionKey = elem.get('processDefinitionKey')\n",
    "    processDefinitionName = elem.get('processDefinitionName')\n",
    "    params = {'processDefinitionId': str(processDefinitionId)}\n",
    "    proc_inst_response = requests.get(BASE_URL + \"/history/process-instance\", params=params)\n",
    "    assert(status_code_successful(proc_inst_response.status_code))\n",
    "    for elem2 in proc_inst_response.json():\n",
    "        end_datetime = parser.parse(elem2.get('endTime'))\n",
    "        start_datetime = parser.parse(elem2.get('startTime'))\n",
    "        duration = (end_datetime - start_datetime).total_seconds()\n",
    "        historic_df.loc[len(historic_df)] = [processDefinitionId, processDefinitionKey, processDefinitionName, duration]\n",
    "        \n",
    "print(historic_df)\n",
    "historic_df.to_csv('version_a_iteration=2000.csv', index=False)\n",
    "# Calculate mean of duration of all instances\n",
    "print(\"Mean: \" + str((historic_df.Duration.mean())))"
   ]
  },
  {
   "cell_type": "code",
   "execution_count": 4,
   "id": "d8a8289f",
   "metadata": {},
   "outputs": [
    {
     "name": "stdout",
     "output_type": "stream",
     "text": [
      "Min value: 0.021\n",
      "Max value: 3.681\n",
      "Mean: 0.12754\n",
      "Median: 0.09\n"
     ]
    },
    {
     "data": {
      "image/png": "[encoded data removed]",
      "text/plain": [
       "<Figure size 720x360 with 1 Axes>"
      ]
     },
     "metadata": {
      "needs_background": "light"
     },
     "output_type": "display_data"
    }
   ],
   "source": [
    "df = pd.read_csv('version_a_iteration=2000.csv')\n",
    "min_duration = df['Duration'].min()\n",
    "max_duration = df['Duration'].max()\n",
    "mean = df['Duration'].mean()\n",
    "median = df['Duration'].median()\n",
    "\n",
    "print(f'Min value: {min_duration}')\n",
    "print(f'Max value: {max_duration}')\n",
    "print(f'Mean: {mean}')\n",
    "print(f'Median: {median}')\n",
    "\n",
    "ax = df['Duration'].plot(kind=\"hist\", figsize=(10,5), xlabel='Duration')\n",
    "ax.figure.savefig('distribution_duration_2000_vA.pdf')"
   ]
  }
 ],
 "metadata": {
  "kernelspec": {
   "display_name": "Python 3",
   "language": "python",
   "name": "python3"
  },
  "language_info": {
   "codemirror_mode": {
    "name": "ipython",
    "version": 3
   },
   "file_extension": ".py",
   "mimetype": "text/x-python",
   "name": "python",
   "nbconvert_exporter": "python",
   "pygments_lexer": "ipython3",
   "version": "3.8.6"
  }
 },
 "nbformat": 4,
 "nbformat_minor": 5
}
